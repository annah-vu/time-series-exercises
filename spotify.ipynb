{
 "cells": [
  {
   "cell_type": "code",
   "execution_count": 1,
   "id": "76761ab4-89da-441d-abfb-ca26b7d79cdc",
   "metadata": {},
   "outputs": [],
   "source": [
    "import pandas as pd\n",
    "import os\n",
    "import requests"
   ]
  },
  {
   "cell_type": "code",
   "execution_count": 2,
   "id": "ecdd24e0-db37-421b-9fab-d0c6ce95b697",
   "metadata": {},
   "outputs": [],
   "source": [
    "import env as env"
   ]
  },
  {
   "cell_type": "code",
   "execution_count": 3,
   "id": "3b719551-c841-4a0c-b59f-8fc80da7119f",
   "metadata": {},
   "outputs": [],
   "source": [
    "auth_url = 'https://accounts.spotify.com/api/token'\n",
    "\n",
    "# POST\n",
    "auth_response = requests.post(auth_url, {\n",
    "    'grant_type': 'client_credentials',\n",
    "    'client_id': env.client_id,\n",
    "    'client_secret': env.client_secret,\n",
    "})\n",
    "\n",
    "# convert the response to JSON\n",
    "auth_response_data = auth_response.json()\n",
    "\n",
    "# save the access token\n",
    "access_token = auth_response_data['access_token']"
   ]
  },
  {
   "cell_type": "code",
   "execution_count": 19,
   "id": "8253ce8e-e50b-438f-a4bc-8675ec6d1f02",
   "metadata": {},
   "outputs": [],
   "source": [
    "headers = {\n",
    "    'Accept': 'application/json',\n",
    "    'Content-Type': 'application/json',\n",
    "    'Authorization': 'Bearer {token}'.format(token=access_token)\n",
    "}"
   ]
  },
  {
   "cell_type": "code",
   "execution_count": 35,
   "id": "39854799-8da8-4c0c-911b-5629586ee3cb",
   "metadata": {},
   "outputs": [],
   "source": [
    "base = 'https://api.spotify.com/v1/'\n",
    "\n",
    "# Track ID from the URI\n",
    "track_id = '5wANPM4fQCJwkGd4rN57mH'\n",
    "# actual GET request with proper header\n",
    "response = requests.get(base + 'audio-features/' + track_id, headers=headers)"
   ]
  },
  {
   "cell_type": "code",
   "execution_count": 36,
   "id": "df043c2f-8d31-4580-a18d-80573305c8c6",
   "metadata": {},
   "outputs": [],
   "source": [
    "data = response.json()"
   ]
  },
  {
   "cell_type": "code",
   "execution_count": 37,
   "id": "d742ec67-4b0e-44a7-be73-34ee0937e9a1",
   "metadata": {},
   "outputs": [
    {
     "data": {
      "text/plain": [
       "{'danceability': 0.561,\n",
       " 'energy': 0.431,\n",
       " 'key': 10,\n",
       " 'loudness': -8.81,\n",
       " 'mode': 1,\n",
       " 'speechiness': 0.0578,\n",
       " 'acousticness': 0.768,\n",
       " 'instrumentalness': 1.42e-05,\n",
       " 'liveness': 0.106,\n",
       " 'valence': 0.137,\n",
       " 'tempo': 143.875,\n",
       " 'type': 'audio_features',\n",
       " 'id': '5wANPM4fQCJwkGd4rN57mH',\n",
       " 'uri': 'spotify:track:5wANPM4fQCJwkGd4rN57mH',\n",
       " 'track_href': 'https://api.spotify.com/v1/tracks/5wANPM4fQCJwkGd4rN57mH',\n",
       " 'analysis_url': 'https://api.spotify.com/v1/audio-analysis/5wANPM4fQCJwkGd4rN57mH',\n",
       " 'duration_ms': 242013,\n",
       " 'time_signature': 4}"
      ]
     },
     "execution_count": 37,
     "metadata": {},
     "output_type": "execute_result"
    }
   ],
   "source": [
    "data"
   ]
  },
  {
   "cell_type": "code",
   "execution_count": null,
   "id": "6b0788a7-e4f4-4cf8-9b8e-4a10c54751ef",
   "metadata": {},
   "outputs": [],
   "source": [
    "#leave before you love me\n",
    "spotify:track:4qu63nuBpdn0qHUHuObEj1"
   ]
  },
  {
   "cell_type": "code",
   "execution_count": null,
   "id": "173f8542-665c-4280-bf15-5c5c3b9eecdd",
   "metadata": {},
   "outputs": [],
   "source": [
    "#drivers license\n",
    "spotify:track:5wANPM4fQCJwkGd4rN57mH"
   ]
  }
 ],
 "metadata": {
  "kernelspec": {
   "display_name": "Python 3",
   "language": "python",
   "name": "python3"
  },
  "language_info": {
   "codemirror_mode": {
    "name": "ipython",
    "version": 3
   },
   "file_extension": ".py",
   "mimetype": "text/x-python",
   "name": "python",
   "nbconvert_exporter": "python",
   "pygments_lexer": "ipython3",
   "version": "3.8.5"
  }
 },
 "nbformat": 4,
 "nbformat_minor": 5
}
